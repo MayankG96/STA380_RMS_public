{
 "cells": [
  {
   "cell_type": "markdown",
   "id": "fd6114c2",
   "metadata": {},
   "source": [
    "Part A. Visitors to your website are asked to answer a single survey question before they get access to the content on the page. Among all of the users, there are two categories: Random Clicker (RC), and Truthful Clicker (TC). There are two possible answers to the survey: yes and no. Random clickers would click either one with equal probability. You are also giving the information that the expected fraction of random clickers is 0.3. After a trial period, you get the following survey results: 65% said Yes and 35% said No. What fraction of people who are truthful clickers answered yes? Hint: use the rule of total probability.\n",
    "\n",
    "Part B. Imagine a medical test for a disease with the following two attributes:\n",
    "\n",
    "The sensitivity is about 0.993. That is, if someone has the disease, there is a probability of 0.993 that they will test positive.\n",
    "The specificity is about 0.9999. This means that if someone doesn't have the disease, there is probability of 0.9999 that they will test negative.\n",
    "In the general population, incidence of the disease is reasonably rare: about 0.0025% of all people have it (or 0.000025 as a decimal probability).\n",
    "Suppose someone tests positive. What is the probability that they have the disease?"
   ]
  },
  {
   "cell_type": "markdown",
   "id": "1a74fe02",
   "metadata": {},
   "source": [
    "### Answers"
   ]
  },
  {
   "cell_type": "markdown",
   "id": "d61b9b43",
   "metadata": {},
   "source": [
    "#### Part A"
   ]
  },
  {
   "cell_type": "markdown",
   "id": "19ebe864",
   "metadata": {},
   "source": [
    "Random and Truthful\n",
    "Random 50-50 30% of the data\n",
    "65% said yes, 35% said no"
   ]
  },
  {
   "cell_type": "markdown",
   "id": "55782557",
   "metadata": {},
   "source": [
    "Let the total be x\n",
    "Random =0.3x\n",
    "Yes_confirmed =0.5*0.3x\n",
    "No confirmed = 0.5*0.3x\n",
    "Total yes = 0.65x\n",
    "Remaining Yes = 0.65x-0.15x == 0.5x\n",
    "Total No =0.35x\n",
    "Remaining No =0.2x\n",
    "Total truthful = 0.7x\n",
    "Fraction = 0.5*100/0.7"
   ]
  },
  {
   "cell_type": "code",
   "execution_count": 1,
   "id": "e3789642",
   "metadata": {},
   "outputs": [
    {
     "data": {
      "text/plain": [
       "0.15"
      ]
     },
     "execution_count": 1,
     "metadata": {},
     "output_type": "execute_result"
    }
   ],
   "source": [
    "0.5*0.3"
   ]
  },
  {
   "cell_type": "code",
   "execution_count": 2,
   "id": "2d69aebb",
   "metadata": {},
   "outputs": [
    {
     "data": {
      "text/plain": [
       "0.21"
      ]
     },
     "execution_count": 2,
     "metadata": {},
     "output_type": "execute_result"
    }
   ],
   "source": [
    "0.36-0.15"
   ]
  },
  {
   "cell_type": "code",
   "execution_count": 3,
   "id": "055d68d7",
   "metadata": {},
   "outputs": [
    {
     "name": "stdout",
     "output_type": "stream",
     "text": [
      "71.429 %\n"
     ]
    }
   ],
   "source": [
    "print(round(0.5*100/0.7,3),'%')"
   ]
  },
  {
   "cell_type": "markdown",
   "id": "baeee1a7",
   "metadata": {},
   "source": [
    "The fraction of people who are truthful clickers answered yes are 71.43%"
   ]
  },
  {
   "cell_type": "markdown",
   "id": "787944ca",
   "metadata": {},
   "source": [
    "##### Part B"
   ]
  },
  {
   "cell_type": "markdown",
   "id": "209513b8",
   "metadata": {},
   "source": [
    "TP= 0.993\n",
    "TN = 0.9999"
   ]
  },
  {
   "cell_type": "markdown",
   "id": "feeffcad",
   "metadata": {},
   "source": [
    "A: Someone Tests Positive\n",
    "B: Someone has the disease\n",
    "\n",
    "P(B) = 0.000025 (prob of having the disease).\n",
    "P(A|B) = 0.993 (prob of testing positive if they have the disease).\n",
    "P(~A|~B) = 0.9999 (prob of testing negative if they dont have the disease).\n",
    "To Find - Prob of having the disease if they are positive. Therefore P(B|A).\n",
    "\n",
    "Bayes' theorem:\n",
    "P(B|A) = P(A|B)*P(B)/P(A)\n",
    "\n",
    "\n",
    "Given P(A|B) and P(B)\n",
    "P(A) - Prob of testing positive, irrespective of having a disease or no. Therefore True Positive and False Positive.\n",
    "\n",
    "P(A) = P(A|B) * P(B) + P(A| ~.B ) * P( ~B)\n",
    "P(A) = 0.993 * 0.000025 + (1 - 0.9999) * (1 - 0.000025)\n",
    "P(A) = 0.000024825 + 0.999975\n",
    "P(A) = 0.0001248225\n",
    "\n",
    "Now, we can calculate P(B|A):\n",
    "P(B|A) = P(A|B) * P(B) / P(A)\n",
    "P(B|A) = 0.993 * 0.000025/0.0001248225\n",
    "P(B|A) = 0.1989\n",
    "\n",
    "Therefore answer is 19.89%"
   ]
  },
  {
   "cell_type": "code",
   "execution_count": 4,
   "id": "5a6e7c62",
   "metadata": {},
   "outputs": [
    {
     "data": {
      "text/plain": [
       "19.89"
      ]
     },
     "execution_count": 4,
     "metadata": {},
     "output_type": "execute_result"
    }
   ],
   "source": [
    "round((0.198882413*100),2)"
   ]
  },
  {
   "cell_type": "markdown",
   "id": "741cb0e2",
   "metadata": {},
   "source": [
    "### ---------------------------------------------------------------------------------------------------------------------------------"
   ]
  }
 ],
 "metadata": {
  "kernelspec": {
   "display_name": "Python 3 (ipykernel)",
   "language": "python",
   "name": "python3"
  },
  "language_info": {
   "codemirror_mode": {
    "name": "ipython",
    "version": 3
   },
   "file_extension": ".py",
   "mimetype": "text/x-python",
   "name": "python",
   "nbconvert_exporter": "python",
   "pygments_lexer": "ipython3",
   "version": "3.10.9"
  }
 },
 "nbformat": 4,
 "nbformat_minor": 5
}
